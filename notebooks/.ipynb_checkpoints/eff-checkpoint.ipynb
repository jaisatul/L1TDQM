{
 "cells": [
  {
   "cell_type": "code",
   "execution_count": 1,
   "id": "a94129a7",
   "metadata": {},
   "outputs": [
    {
     "name": "stdout",
     "output_type": "stream",
     "text": [
      "Welcome to JupyROOT 6.26/10\n"
     ]
    }
   ],
   "source": [
    "import ROOT\n",
    "import matplotlib.pyplot as plt\n",
    "import numpy as np\n",
    "import uproot as up\n",
    "import mplhep as hep\n",
    "\n",
    "hep.style.use(\"CMS\")"
   ]
  },
  {
   "cell_type": "code",
   "execution_count": 2,
   "id": "c779ff2d",
   "metadata": {},
   "outputs": [],
   "source": [
    "## Open the input ROOT file and get the events tree\n",
    "events = up.open(\"../nanoaodfiles/ReReco-Run2022G-Muon-PromptNanoAODv10_v1-301949d0-c7ec-4094-9212-dd463bda0538.root:Events\")"
   ]
  },
  {
   "cell_type": "code",
   "execution_count": 3,
   "id": "1763b638",
   "metadata": {},
   "outputs": [],
   "source": [
    "## Create leaf objects for the branches\n",
    "\n",
    "l1MuonPts = events[\"L1Mu_pt\"].array(library=\"ak\")\n",
    "l1MuonEtas = events[\"L1Mu_eta\"].array(library=\"ak\")\n",
    "l1MuonPhis = events[\"L1Mu_phi\"].array(library=\"ak\")\n",
    "nL1Muons = events[\"nL1Mu\"].array(library=\"np\")\n",
    "\n",
    "muonPts = events[\"Muon_pt\"].array(library=\"ak\")\n",
    "muonEtas = events[\"Muon_eta\"].array(library=\"ak\")\n",
    "muonPhis = events[\"Muon_phi\"].array(library=\"ak\")\n",
    "nMuons = events[\"nMuon\"].array(library=\"np\")"
   ]
  },
  {
   "cell_type": "code",
   "execution_count": 4,
   "id": "13f46ad4",
   "metadata": {},
   "outputs": [
    {
     "name": "stderr",
     "output_type": "stream",
     "text": [
      "Warning in <TFile::Append>: Replacing existing TH1: num (Potential memory leak).\n"
     ]
    }
   ],
   "source": [
    "# Open the output ROOT file\n",
    "outFile = ROOT.TFile(\"output.root\", \"RECREATE\")\n",
    "\n",
    "# Create a histogram\n",
    "num = ROOT.TH1F(\"num\", \"\", 100, 0, 1000)\n",
    "den = ROOT.TH1F(\"num\", \"\", 100, 0, 1000)"
   ]
  },
  {
   "cell_type": "code",
   "execution_count": 5,
   "id": "8f58547b",
   "metadata": {},
   "outputs": [
    {
     "data": {
      "text/plain": [
       "50652"
      ]
     },
     "execution_count": 5,
     "metadata": {},
     "output_type": "execute_result"
    }
   ],
   "source": [
    "nEvents = len(events[\"event\"].array(library=\"np\"))\n",
    "nEvents"
   ]
  },
  {
   "cell_type": "code",
   "execution_count": 21,
   "id": "6b5f20ab",
   "metadata": {},
   "outputs": [],
   "source": [
    "l1PtMin = 22\n",
    "l1EtaMin = 0\n",
    "l1EtaMax = 2.4\n",
    "\n",
    "\n",
    "dRMin = 0.1\n",
    "for iEvent in range(1):\n",
    "    nMuon = nMuons[iEvent]\n",
    "    nL1Muon = nL1Muons[iEvent]\n",
    "    \n",
    "    \n",
    "    for iMuon in range(nMuon):\n",
    "        pt = muonPts[iEvent][iMuon]\n",
    "        eta = muonPts[iEvent][iMuon]\n",
    "        phi = muonPts[iEvent][iMuon]\n",
    "\n",
    "#         den.Fill(pt)\n",
    "        \n",
    "#         muonMatched = False\n",
    "#         iMatched = -999\n",
    "#         for iTObj in range(nLObj):\n",
    "#             l1pt = l1ObjPts[iEvent][iTObj]\n",
    "#             l1eta = l1ObjEtas[iEvent][iTObj]\n",
    "#             l1phi = l1ObjPhis[iEvent][iTObj]\n",
    "            \n",
    "#             dPhi = ROOT.TVector2().Phi_mpi_pi(phi - l1phi)\n",
    "#             dEta = eta - l1eta\n",
    "#             dR = np.sqrt(dPhi * dPhi + dEta * dEta)\n",
    "            \n",
    "#             if (dR < dRMin): \n",
    "#                 muonMatched = True\n",
    "#                 iMatched = iTObj\n",
    "#                 break\n",
    "#             else: \n",
    "#                 continue\n",
    "        \n",
    "#         if muonMatched:\n",
    "#             matchedl1pt = l1ObjPts[iEvent][iMatched]\n",
    "#             matchedl1eta = l1ObjEtas[iEvent][iMatched]\n",
    "#             matchedl1phi = l1ObjPhis[iEvent][iMatched]\n",
    "            \n",
    "#             if (abs(matchedl1eta) < l1EtaMax and abs(matchedl1eta) > l1EtaMin and matchedl1pt > l1PtMin):\n",
    "#                 num.Fill(pt)            \n"
   ]
  },
  {
   "cell_type": "code",
   "execution_count": 25,
   "id": "c81c80c6",
   "metadata": {},
   "outputs": [
    {
     "data": {
      "image/png": "[encoded data removed]",
      "text/plain": [
       "<IPython.core.display.Image object>"
      ]
     },
     "metadata": {},
     "output_type": "display_data"
    }
   ],
   "source": [
    "c = ROOT.TCanvas(\"c\", \"c\", 800, 600)\n",
    "\n",
    "pEff = ROOT.TEfficiency(num, den)\n",
    "pEff.Draw(\"AP\")\n",
    "c.Draw()"
   ]
  },
  {
   "cell_type": "code",
   "execution_count": null,
   "id": "6e35abd3",
   "metadata": {},
   "outputs": [],
   "source": []
  }
 ],
 "metadata": {
  "kernelspec": {
   "display_name": "Python 3 (ipykernel)",
   "language": "python",
   "name": "python3"
  },
  "language_info": {
   "codemirror_mode": {
    "name": "ipython",
    "version": 3
   },
   "file_extension": ".py",
   "mimetype": "text/x-python",
   "name": "python",
   "nbconvert_exporter": "python",
   "pygments_lexer": "ipython3",
   "version": "3.11.0"
  }
 },
 "nbformat": 4,
 "nbformat_minor": 5
}
